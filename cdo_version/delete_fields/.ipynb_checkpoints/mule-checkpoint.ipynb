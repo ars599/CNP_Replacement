{
 "cells": [
  {
   "cell_type": "code",
   "execution_count": 42,
   "id": "dae59b6f-fa03-47f3-8277-3c054656145d",
   "metadata": {},
   "outputs": [
    {
     "ename": "ValidateError",
     "evalue": "Failed to validate\nFile: /g/data/eg3/lz3062/csiro/bi889a.da10500101_00_new\nField validation failures:\n  Fields (731,732,733)\nField grid longitudes inconsistent\n  File grid : 0.0 to 358.125, spacing 1.875\n  Field grid: 0.5 to 359.5, spacing 1.0\n  Extents should be within 1 field grid-spacing",
     "output_type": "error",
     "traceback": [
      "\u001b[0;31m---------------------------------------------------------------------------\u001b[0m",
      "\u001b[0;31mValidateError\u001b[0m                             Traceback (most recent call last)",
      "Cell \u001b[0;32mIn[42], line 5\u001b[0m\n\u001b[1;32m      3\u001b[0m warnings\u001b[38;5;241m.\u001b[39mfilterwarnings(\u001b[38;5;124m'\u001b[39m\u001b[38;5;124mignore\u001b[39m\u001b[38;5;124m'\u001b[39m)\n\u001b[1;32m      4\u001b[0m astart \u001b[38;5;241m=\u001b[39m mule\u001b[38;5;241m.\u001b[39mDumpFile\u001b[38;5;241m.\u001b[39mfrom_file(\u001b[38;5;124mf\u001b[39m\u001b[38;5;124m'\u001b[39m\u001b[38;5;124m/g/data/eg3/lz3062/csiro/bi889a.da10500101_00\u001b[39m\u001b[38;5;124m'\u001b[39m)\n\u001b[0;32m----> 5\u001b[0m \u001b[43mastart\u001b[49m\u001b[38;5;241;43m.\u001b[39;49m\u001b[43mto_file\u001b[49m\u001b[43m(\u001b[49m\u001b[38;5;124;43mf\u001b[39;49m\u001b[38;5;124;43m'\u001b[39;49m\u001b[38;5;124;43m/g/data/eg3/lz3062/csiro/bi889a.da10500101_00_new\u001b[39;49m\u001b[38;5;124;43m'\u001b[39;49m\u001b[43m)\u001b[49m\n",
      "File \u001b[0;32m/g/data/hh5/public/apps/miniconda3/envs/analysis3-22.07/lib/python3.9/site-packages/mule/__init__.py:1406\u001b[0m, in \u001b[0;36mUMFile.to_file\u001b[0;34m(self, output_file_or_path)\u001b[0m\n\u001b[1;32m   1402\u001b[0m \u001b[38;5;66;03m# Call validate - to ensure the file about to be written out doesn't\u001b[39;00m\n\u001b[1;32m   1403\u001b[0m \u001b[38;5;66;03m# contain obvious errors.  This is done here before any new file is\u001b[39;00m\n\u001b[1;32m   1404\u001b[0m \u001b[38;5;66;03m# created so that we don't create a blank file if the validation fails\u001b[39;00m\n\u001b[1;32m   1405\u001b[0m \u001b[38;5;28;01mif\u001b[39;00m \u001b[38;5;28misinstance\u001b[39m(output_file_or_path, six\u001b[38;5;241m.\u001b[39mstring_types):\n\u001b[0;32m-> 1406\u001b[0m     \u001b[38;5;28;43mself\u001b[39;49m\u001b[38;5;241;43m.\u001b[39;49m\u001b[43mvalidate\u001b[49m\u001b[43m(\u001b[49m\u001b[43mfilename\u001b[49m\u001b[38;5;241;43m=\u001b[39;49m\u001b[43moutput_file_or_path\u001b[49m\u001b[43m)\u001b[49m\n\u001b[1;32m   1407\u001b[0m \u001b[38;5;28;01melse\u001b[39;00m:\n\u001b[1;32m   1408\u001b[0m     \u001b[38;5;28mself\u001b[39m\u001b[38;5;241m.\u001b[39mvalidate(filename\u001b[38;5;241m=\u001b[39moutput_file_or_path\u001b[38;5;241m.\u001b[39mname)\n",
      "File \u001b[0;32m/g/data/hh5/public/apps/miniconda3/envs/analysis3-22.07/lib/python3.9/site-packages/mule/validators.py:200\u001b[0m, in \u001b[0;36mvalidate_umf\u001b[0;34m(umf, filename, warn, GridArakawaA)\u001b[0m\n\u001b[1;32m    198\u001b[0m     warnings\u001b[38;5;241m.\u001b[39mwarn(msg)\n\u001b[1;32m    199\u001b[0m \u001b[38;5;28;01melse\u001b[39;00m:\n\u001b[0;32m--> 200\u001b[0m     \u001b[38;5;28;01mraise\u001b[39;00m ValidateError(filename, \u001b[38;5;124m\"\u001b[39m\u001b[38;5;130;01m\\n\u001b[39;00m\u001b[38;5;124m\"\u001b[39m\u001b[38;5;241m.\u001b[39mjoin(validation_errors))\n",
      "\u001b[0;31mValidateError\u001b[0m: Failed to validate\nFile: /g/data/eg3/lz3062/csiro/bi889a.da10500101_00_new\nField validation failures:\n  Fields (731,732,733)\nField grid longitudes inconsistent\n  File grid : 0.0 to 358.125, spacing 1.875\n  Field grid: 0.5 to 359.5, spacing 1.0\n  Extents should be within 1 field grid-spacing"
     ]
    }
   ],
   "source": [
    "import mule\n",
    "import warnings\n",
    "warnings.filterwarnings('ignore')\n",
    "astart = mule.DumpFile.from_file(f'/g/data/eg3/lz3062/csiro/bi889a.da10500101_00')\n",
    "astart.to_file(f'/g/data/eg3/lz3062/csiro/bi889a.da10500101_00_new')"
   ]
  },
  {
   "cell_type": "code",
   "execution_count": 37,
   "id": "461edcd4-f865-4e91-809d-78dfee4b0bb0",
   "metadata": {},
   "outputs": [
    {
     "data": {
      "text/plain": [
       "(1905, 1906, 1902)"
      ]
     },
     "execution_count": 37,
     "metadata": {},
     "output_type": "execute_result"
    }
   ],
   "source": [
    "astart.fields[731].lbfc,astart.fields[732].lbfc,astart.fields[733].lbfc"
   ]
  },
  {
   "cell_type": "code",
   "execution_count": 14,
   "id": "f41142f4-cd7f-4dc3-9d49-25e3cf826f97",
   "metadata": {},
   "outputs": [
    {
     "name": "stdout",
     "output_type": "stream",
     "text": [
      "9999 1\n",
      "9999 2\n",
      "9999 3\n",
      "9999 4\n",
      "9999 5\n",
      "9999 6\n",
      "9999 7\n",
      "9999 8\n",
      "9999 9\n",
      "9999 10\n",
      "9999 11\n",
      "9999 12\n",
      "9999 13\n"
     ]
    }
   ],
   "source": [
    "for ifield, field in enumerate(astart.fields):\n",
    "    if field.lbuser4 == 217 and lbuser5 == 1:\n",
    "        print(field.lblev,field.lbuser5)"
   ]
  },
  {
   "cell_type": "code",
   "execution_count": 16,
   "id": "5a5e2da7-8639-483f-863d-4f8c2e00bc6d",
   "metadata": {},
   "outputs": [],
   "source": [
    "import xarray as xr\n",
    "import mule\n",
    "import warnings\n",
    "warnings.filterwarnings('ignore')\n",
    "\n",
    "with xr.open_dataset(f'/g/data/eg3/lz3062/csiro/ref_regrid.nc') as ds:\n",
    "    item217 = ds['field1392'].data\n",
    "    item875 = ds['temp'].data\n",
    "    item880 = ds['temp_1'].data\n",
    "    item881 = ds['temp_2'].data\n",
    "    item883 = ds['temp_3'].data\n",
    "    item884 = ds['temp_4'].data\n",
    "    item885 = ds['temp_5'].data\n",
    "    item887 = ds['temp_6'].data\n",
    "    item888 = ds['temp_7'].data"
   ]
  },
  {
   "cell_type": "code",
   "execution_count": 19,
   "id": "9de1f434-1b15-4f8c-9641-3d9b3ab1c1eb",
   "metadata": {},
   "outputs": [
    {
     "ename": "ValidateError",
     "evalue": "Failed to validate\nFile: /g/data/eg3/lz3062/csiro/bi889a.da10500101_00_new\nField validation failures:\n  Fields (731,732,733)\nField grid longitudes inconsistent\n  File grid : 0.0 to 358.125, spacing 1.875\n  Field grid: 0.5 to 359.5, spacing 1.0\n  Extents should be within 1 field grid-spacing",
     "output_type": "error",
     "traceback": [
      "\u001b[0;31m---------------------------------------------------------------------------\u001b[0m",
      "\u001b[0;31mValidateError\u001b[0m                             Traceback (most recent call last)",
      "Cell \u001b[0;32mIn[19], line 47\u001b[0m\n\u001b[1;32m     45\u001b[0m         replace_operator \u001b[38;5;241m=\u001b[39m replaceOperator(item887)\n\u001b[1;32m     46\u001b[0m         astart\u001b[38;5;241m.\u001b[39mfields[ifield] \u001b[38;5;241m=\u001b[39m replace_operator(field)\n\u001b[0;32m---> 47\u001b[0m \u001b[43mastart\u001b[49m\u001b[38;5;241;43m.\u001b[39;49m\u001b[43mto_file\u001b[49m\u001b[43m(\u001b[49m\u001b[38;5;124;43mf\u001b[39;49m\u001b[38;5;124;43m'\u001b[39;49m\u001b[38;5;124;43m/g/data/eg3/lz3062/csiro/bi889a.da10500101_00_new\u001b[39;49m\u001b[38;5;124;43m'\u001b[39;49m\u001b[43m)\u001b[49m\n",
      "File \u001b[0;32m/g/data/hh5/public/apps/miniconda3/envs/analysis3-22.07/lib/python3.9/site-packages/mule/__init__.py:1406\u001b[0m, in \u001b[0;36mUMFile.to_file\u001b[0;34m(self, output_file_or_path)\u001b[0m\n\u001b[1;32m   1402\u001b[0m \u001b[38;5;66;03m# Call validate - to ensure the file about to be written out doesn't\u001b[39;00m\n\u001b[1;32m   1403\u001b[0m \u001b[38;5;66;03m# contain obvious errors.  This is done here before any new file is\u001b[39;00m\n\u001b[1;32m   1404\u001b[0m \u001b[38;5;66;03m# created so that we don't create a blank file if the validation fails\u001b[39;00m\n\u001b[1;32m   1405\u001b[0m \u001b[38;5;28;01mif\u001b[39;00m \u001b[38;5;28misinstance\u001b[39m(output_file_or_path, six\u001b[38;5;241m.\u001b[39mstring_types):\n\u001b[0;32m-> 1406\u001b[0m     \u001b[38;5;28;43mself\u001b[39;49m\u001b[38;5;241;43m.\u001b[39;49m\u001b[43mvalidate\u001b[49m\u001b[43m(\u001b[49m\u001b[43mfilename\u001b[49m\u001b[38;5;241;43m=\u001b[39;49m\u001b[43moutput_file_or_path\u001b[49m\u001b[43m)\u001b[49m\n\u001b[1;32m   1407\u001b[0m \u001b[38;5;28;01melse\u001b[39;00m:\n\u001b[1;32m   1408\u001b[0m     \u001b[38;5;28mself\u001b[39m\u001b[38;5;241m.\u001b[39mvalidate(filename\u001b[38;5;241m=\u001b[39moutput_file_or_path\u001b[38;5;241m.\u001b[39mname)\n",
      "File \u001b[0;32m/g/data/hh5/public/apps/miniconda3/envs/analysis3-22.07/lib/python3.9/site-packages/mule/validators.py:200\u001b[0m, in \u001b[0;36mvalidate_umf\u001b[0;34m(umf, filename, warn, GridArakawaA)\u001b[0m\n\u001b[1;32m    198\u001b[0m     warnings\u001b[38;5;241m.\u001b[39mwarn(msg)\n\u001b[1;32m    199\u001b[0m \u001b[38;5;28;01melse\u001b[39;00m:\n\u001b[0;32m--> 200\u001b[0m     \u001b[38;5;28;01mraise\u001b[39;00m ValidateError(filename, \u001b[38;5;124m\"\u001b[39m\u001b[38;5;130;01m\\n\u001b[39;00m\u001b[38;5;124m\"\u001b[39m\u001b[38;5;241m.\u001b[39mjoin(validation_errors))\n",
      "\u001b[0;31mValidateError\u001b[0m: Failed to validate\nFile: /g/data/eg3/lz3062/csiro/bi889a.da10500101_00_new\nField validation failures:\n  Fields (731,732,733)\nField grid longitudes inconsistent\n  File grid : 0.0 to 358.125, spacing 1.875\n  Field grid: 0.5 to 359.5, spacing 1.0\n  Extents should be within 1 field grid-spacing"
     ]
    }
   ],
   "source": [
    "class replaceOperator(mule.DataOperator):\n",
    "    \"\"\"Operator which replace data with delta\"\"\"\n",
    "    def __init__(self,delta):\n",
    "        self.delta = delta\n",
    "    def new_field(self, source_field):\n",
    "        \"\"\"Creates the new field object\"\"\"\n",
    "        field = source_field.copy()\n",
    "        return field\n",
    "    def transform(self, source_field, new_field):\n",
    "        \"\"\"Performs the data manipulation\"\"\"\n",
    "        data = self.delta[0,source_field.lbuser5-1,:,:]\n",
    "        if hasattr(source_field, \"bmdi\"):\n",
    "            mdi = source_field.bmdi\n",
    "            mask = (data == mdi)\n",
    "            data_out[mask] = mdi\n",
    "        return data\n",
    "    \n",
    "astart = mule.DumpFile.from_file(f'/g/data/eg3/lz3062/csiro/bi889a.da10500101_00')\n",
    "for ifield, field in enumerate(astart.fields):\n",
    "    if field.lbuser4 == 217:\n",
    "        replace_operator = replaceOperator(item217)\n",
    "        astart.fields[ifield] = replace_operator(field)\n",
    "    elif field.lbuser4 == 875:\n",
    "        replace_operator = replaceOperator(item875)\n",
    "        astart.fields[ifield] = replace_operator(field)\n",
    "    elif field.lbuser4 == 880:\n",
    "        replace_operator = replaceOperator(item880)\n",
    "        astart.fields[ifield] = replace_operator(field)\n",
    "    elif field.lbuser4 == 881:\n",
    "        replace_operator = replaceOperator(item881)\n",
    "        astart.fields[ifield] = replace_operator(field)\n",
    "    elif field.lbuser4 == 883:\n",
    "        replace_operator = replaceOperator(item883)\n",
    "        astart.fields[ifield] = replace_operator(field)\n",
    "    elif field.lbuser4 == 884:\n",
    "        replace_operator = replaceOperator(item884)\n",
    "        astart.fields[ifield] = replace_operator(field)\n",
    "    elif field.lbuser4 == 885:\n",
    "        replace_operator = replaceOperator(item885)\n",
    "        astart.fields[ifield] = replace_operator(field)\n",
    "    elif field.lbuser4 == 887:\n",
    "        replace_operator = replaceOperator(item887)\n",
    "        astart.fields[ifield] = replace_operator(field)\n",
    "    elif field.lbuser4 == 888:\n",
    "        replace_operator = replaceOperator(item887)\n",
    "        astart.fields[ifield] = replace_operator(field)\n",
    "astart.to_file(f'/g/data/eg3/lz3062/csiro/bi889a.da10500101_00_new')"
   ]
  },
  {
   "cell_type": "code",
   "execution_count": 20,
   "id": "889a04e5-8c1d-4bb1-a612-3c90947a0471",
   "metadata": {},
   "outputs": [
    {
     "data": {
      "text/plain": [
       "151"
      ]
     },
     "execution_count": 20,
     "metadata": {},
     "output_type": "execute_result"
    }
   ],
   "source": [
    "astart.fields[731].lbuser4"
   ]
  },
  {
   "cell_type": "code",
   "execution_count": null,
   "id": "492d8399-dfef-4d71-a017-4826f8748456",
   "metadata": {},
   "outputs": [],
   "source": []
  }
 ],
 "metadata": {
  "kernelspec": {
   "display_name": "Python 3 (ipykernel)",
   "language": "python",
   "name": "python3"
  },
  "language_info": {
   "codemirror_mode": {
    "name": "ipython",
    "version": 3
   },
   "file_extension": ".py",
   "mimetype": "text/x-python",
   "name": "python",
   "nbconvert_exporter": "python",
   "pygments_lexer": "ipython3",
   "version": "3.9.15"
  }
 },
 "nbformat": 4,
 "nbformat_minor": 5
}
