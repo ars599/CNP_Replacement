{
 "cells": [
  {
   "cell_type": "code",
   "execution_count": 4,
   "id": "ed57443d-8ab6-42a6-ac61-4789ebe5f6c0",
   "metadata": {},
   "outputs": [],
   "source": [
    "import mule\n",
    "import warnings\n",
    "warnings.filterwarnings('ignore')\n",
    "\n",
    "ff = mule.DumpFile.from_file(f'/g/data/p66/lz3062/replace_dumpfile/bi889a.da10500101_00_lynn')\n",
    "\n",
    "for ifield,field in enumerate(list(ff.fields)):\n",
    "    if field.lbuser4 in [151,152,153]:\n",
    "        ff.fields.remove(field)\n",
    "ff.to_file(f'/g/data/p66/lz3062/replace_dumpfile/bi889a.da10500101_00_lynn_deleteFields')"
   ]
  },
  {
   "cell_type": "code",
   "execution_count": null,
   "id": "dd008645-0b1b-4aa4-80ef-7fecdbd71e9a",
   "metadata": {},
   "outputs": [],
   "source": []
  }
 ],
 "metadata": {
  "kernelspec": {
   "display_name": "Python 3 (ipykernel)",
   "language": "python",
   "name": "python3"
  },
  "language_info": {
   "codemirror_mode": {
    "name": "ipython",
    "version": 3
   },
   "file_extension": ".py",
   "mimetype": "text/x-python",
   "name": "python",
   "nbconvert_exporter": "python",
   "pygments_lexer": "ipython3",
   "version": "3.9.15"
  }
 },
 "nbformat": 4,
 "nbformat_minor": 5
}
